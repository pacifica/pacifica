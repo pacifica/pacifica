{
 "cells": [
  {
   "cell_type": "markdown",
   "metadata": {},
   "source": [
    "## Requirements and Imports\n",
    "\n",
    "This notebook does require some external python libraries."
   ]
  },
  {
   "cell_type": "code",
   "execution_count": null,
   "metadata": {
    "scrolled": true
   },
   "outputs": [],
   "source": [
    "%pip install pacifica-metadata==0.10.1 pacifica-cli==0.4.0 pacifica-downloader==0.3.5 pacifica-uploader==0.2.5"
   ]
  },
  {
   "cell_type": "code",
   "execution_count": null,
   "metadata": {},
   "outputs": [],
   "source": [
    "import os\n",
    "import sys\n",
    "import json\n",
    "import contextlib\n",
    "import hashlib\n",
    "from io import StringIO\n",
    "\n",
    "import requests"
   ]
  },
  {
   "cell_type": "markdown",
   "metadata": {},
   "source": [
    "## Load the Test Data Set\n",
    "\n",
    "The test data set is coupled with the metadata service and\n",
    "can be loaded through docker like the following."
   ]
  },
  {
   "cell_type": "code",
   "execution_count": null,
   "metadata": {},
   "outputs": [],
   "source": [
    "from test_data.loadit_test import main\n",
    "\n",
    "os.environ['METADATA_URL'] = 'http://metadataserver:8121'\n",
    "main()"
   ]
  },
  {
   "cell_type": "markdown",
   "metadata": {},
   "source": [
    "## Verify the Services\n",
    "\n",
    "The verification steps are coupled with the test dataset\n",
    "loaded from the metadata image.\n",
    "\n",
    "### The Archive Interface\n",
    "\n",
    "The archive interface should respond to accessing files."
   ]
  },
  {
   "cell_type": "code",
   "execution_count": null,
   "metadata": {},
   "outputs": [],
   "source": [
    "test_file = os.path.join('test_data', 'README.md')\n",
    "for file_id in ['103', '104']:\n",
    "    with open(test_file) as test_file_fd:\n",
    "        resp = requests.put('http://archiveinterface:8080/{}'.format(file_id), data=test_file_fd)\n",
    "        assert resp.status_code == 201\n",
    "\n",
    "mhash = hashlib.sha1()\n",
    "with open(test_file) as test_file_fd:\n",
    "    mhash.update(bytes(test_file_fd.read(), 'utf8'))\n",
    "hash_sum = mhash.hexdigest()\n",
    "size = os.stat(test_file).st_size\n",
    "print(hash_sum)\n",
    "print(size)"
   ]
  },
  {
   "cell_type": "markdown",
   "metadata": {},
   "source": [
    "### The Metadata Interface\n",
    "\n",
    "The metadata service should also be available by docker."
   ]
  },
  {
   "cell_type": "code",
   "execution_count": null,
   "metadata": {},
   "outputs": [],
   "source": [
    "for file_id in ['103', '104']:\n",
    "    resp = requests.post('http://metadataserver:8121/files',\n",
    "        params={'_id': file_id},\n",
    "        json={\"size\":size,\"hashtype\":\"sha1\",\"hashsum\":hash_sum}\n",
    "    )\n",
    "    assert resp.status_code == 200"
   ]
  },
  {
   "cell_type": "markdown",
   "metadata": {},
   "source": [
    "### The UniqueID Interface\n",
    "\n",
    "The uniqueid interface needs to be updated with the new files we\n",
    "inserted prior."
   ]
  },
  {
   "cell_type": "code",
   "execution_count": null,
   "metadata": {},
   "outputs": [],
   "source": [
    "for mode in ['file', 'upload_job']:\n",
    "    resp = requests.get('http://uniqueid:8051/getid', params={'mode': mode, 'range': '200'})\n",
    "    assert resp.status_code == 200\n",
    "    print(resp.json())"
   ]
  },
  {
   "cell_type": "markdown",
   "metadata": {},
   "source": [
    "### The Policy Interface"
   ]
  },
  {
   "cell_type": "code",
   "execution_count": null,
   "metadata": {
    "scrolled": true
   },
   "outputs": [],
   "source": [
    "resp = requests.get('http://policyserver:8181/status/users/search/dmlb2001/simple')\n",
    "assert resp.status_code == 200\n",
    "print(json.dumps(resp.json(), sort_keys=True, indent=4))"
   ]
  },
  {
   "cell_type": "markdown",
   "metadata": {},
   "source": [
    "### The Proxy Interface"
   ]
  },
  {
   "cell_type": "code",
   "execution_count": null,
   "metadata": {},
   "outputs": [],
   "source": [
    "resp = requests.get('http://proxyserver:8180/files/sha1/{}'.format(hash_sum))\n",
    "assert resp.status_code == 200\n",
    "new_hash = hashlib.sha1()\n",
    "new_hash.update(bytes(resp.text, 'utf8'))\n",
    "assert hash_sum == new_hash.hexdigest()"
   ]
  },
  {
   "cell_type": "markdown",
   "metadata": {},
   "source": [
    "### Ingest Interface\n",
    "\n",
    "First we need to configure the CLI."
   ]
  },
  {
   "cell_type": "code",
   "execution_count": null,
   "metadata": {},
   "outputs": [],
   "source": [
    "os.environ['UPLOAD_URL'] = 'http://ingestfrontend:8066/upload'\n",
    "os.environ['UPLOAD_STATUS_URL'] = 'http://ingestfrontend:8066/get_state'\n",
    "os.environ['UPLOAD_POLICY_URL'] = 'http://policyserver:8181/uploader'\n",
    "os.environ['UPLOAD_VALIDATION_URL'] = 'http://policyserver:8181/ingest'\n",
    "os.environ['DOWNLOAD_URL'] = 'http://cartfrontend:8081'\n",
    "os.environ['DOWNLOAD_POLICY_URL'] = 'http://policyserver:8181/status/transactions/by_id'\n",
    "os.environ['AUTHENTICATION_TYPE'] = 'None'\n",
    "os.environ['UPLOADER_CONFIG'] = os.path.join('pacifica-cli', 'uploader.json')\n",
    "from pacifica.cli.__main__ import main\n",
    "sys.argv = ['cli', 'configure']\n",
    "main()"
   ]
  },
  {
   "cell_type": "markdown",
   "metadata": {},
   "source": [
    "Then we can try and upload the test data located in the `test_files` directory."
   ]
  },
  {
   "cell_type": "code",
   "execution_count": null,
   "metadata": {},
   "outputs": [],
   "source": [
    "from pacifica.cli.__main__ import main\n",
    "stdout_buf = StringIO()\n",
    "stderr_buf = StringIO()\n",
    "with contextlib.redirect_stderr(stderr_buf):\n",
    "    with contextlib.redirect_stdout(stdout_buf):\n",
    "        sys.argv = ['cli', 'upload', '--logon=10', 'test_data']\n",
    "        main()\n",
    "json_obj_start = stdout_buf.getvalue().find('{')\n",
    "json_obj_end = stdout_buf.getvalue().find('}')\n",
    "print(stdout_buf.getvalue()[json_obj_start:json_obj_end+1])\n",
    "job_id = json.loads(stdout_buf.getvalue()[json_obj_start:json_obj_end+1])['job_id']\n",
    "print(job_id)"
   ]
  },
  {
   "cell_type": "markdown",
   "metadata": {},
   "source": [
    "### The Cart Download Interface"
   ]
  },
  {
   "cell_type": "code",
   "execution_count": null,
   "metadata": {
    "scrolled": true
   },
   "outputs": [],
   "source": [
    "from pacifica.cli.__main__ import main\n",
    "from tempfile import TemporaryDirectory\n",
    "\n",
    "with TemporaryDirectory() as tempdir:\n",
    "    sys.argv = ['cli', 'download', '--transaction-id={}'.format(job_id), '--destination', tempdir]\n",
    "    main()\n",
    "    for root, dirs, files in os.walk(tempdir):\n",
    "        for dirname in dirs:\n",
    "            print(os.path.relpath(os.path.join(root, dirname), tempdir))\n",
    "        for filename in files:\n",
    "            print(os.path.relpath(os.path.join(root, filename), tempdir))"
   ]
  }
 ],
 "metadata": {
  "kernelspec": {
   "display_name": "Python 3",
   "language": "python",
   "name": "python3"
  },
  "language_info": {
   "codemirror_mode": {
    "name": "ipython",
    "version": 3
   },
   "file_extension": ".py",
   "mimetype": "text/x-python",
   "name": "python",
   "nbconvert_exporter": "python",
   "pygments_lexer": "ipython3",
   "version": "3.7.3"
  }
 },
 "nbformat": 4,
 "nbformat_minor": 2
}
